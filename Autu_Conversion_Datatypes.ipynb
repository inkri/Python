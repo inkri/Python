{
 "cells": [
  {
   "cell_type": "code",
   "execution_count": 12,
   "id": "d3aea46b-d444-4b59-9d38-ea0dce3cc8b1",
   "metadata": {},
   "outputs": [
    {
     "data": {
      "text/plain": [
       "int_column      object\n",
       "float_column    object\n",
       "date_column     object\n",
       "str_column      object\n",
       "dtype: object"
      ]
     },
     "execution_count": 12,
     "metadata": {},
     "output_type": "execute_result"
    }
   ],
   "source": [
    "import pandas as pd\n",
    "\n",
    "# Example usage\n",
    "data = {\n",
    "    'int_column': ['1', '2', '3'],\n",
    "    'float_column': ['1.1', '2.2', '3.3'],\n",
    "    'date_column': ['2021-01-01', '2021-02-01', '2021-03-01'],\n",
    "    'str_column': ['A', 'B', 'C']\n",
    "}\n",
    "\n",
    "df = pd.DataFrame(data)\n",
    "df.dtypes"
   ]
  },
  {
   "cell_type": "code",
   "execution_count": 13,
   "id": "1123b850-7bf1-4161-8a64-856180257631",
   "metadata": {},
   "outputs": [
    {
     "name": "stdout",
     "output_type": "stream",
     "text": [
      "int_column               int64\n",
      "float_column           float64\n",
      "date_column     datetime64[ns]\n",
      "str_column              object\n",
      "dtype: object\n"
     ]
    },
    {
     "name": "stderr",
     "output_type": "stream",
     "text": [
      "C:\\Users\\Abhishek_Jaiswal\\AppData\\Local\\Temp\\ipykernel_22928\\3256580595.py:11: UserWarning: Could not infer format, so each element will be parsed individually, falling back to `dateutil`. To ensure parsing is consistent and as-expected, please specify a format.\n",
      "  df[col] = pd.to_datetime(df[col], errors='raise')\n"
     ]
    }
   ],
   "source": [
    "import pandas as pd\n",
    "\n",
    "def convert_column_types(df):\n",
    "    for col in df.columns:\n",
    "        # First, try to convert to numeric (int or float)\n",
    "        try:\n",
    "            df[col] = pd.to_numeric(df[col], errors='raise')\n",
    "        except (ValueError, TypeError):\n",
    "            # If numeric conversion fails, try to convert to datetime\n",
    "            try:\n",
    "                df[col] = pd.to_datetime(df[col], errors='raise')\n",
    "            except (ValueError, TypeError):\n",
    "                # If both numeric and datetime conversions fail, keep as object\n",
    "                df[col] = df[col].astype('object')\n",
    "\n",
    "    # Return the updated DataFrame with the best possible types\n",
    "    return df\n",
    "\n",
    "converted_df = convert_column_types(df)\n",
    "print(converted_df.dtypes)\n"
   ]
  },
  {
   "cell_type": "code",
   "execution_count": 19,
   "id": "be075003-9cf2-4d72-8f5e-c2f9fc227991",
   "metadata": {},
   "outputs": [
    {
     "name": "stdout",
     "output_type": "stream",
     "text": [
      "int_column               Int64\n",
      "float_column           float64\n",
      "date_column     datetime64[ns]\n",
      "str_column              object\n",
      "dtype: object\n"
     ]
    },
    {
     "name": "stderr",
     "output_type": "stream",
     "text": [
      "C:\\Users\\Abhishek_Jaiswal\\AppData\\Local\\Temp\\ipykernel_22928\\627021236.py:14: UserWarning: Could not infer format, so each element will be parsed individually, falling back to `dateutil`. To ensure parsing is consistent and as-expected, please specify a format.\n",
      "  datetime_col = pd.to_datetime(df[col], errors='coerce')\n"
     ]
    }
   ],
   "source": [
    "import pandas as pd\n",
    "\n",
    "def convert_column_types(df):\n",
    "    for col in df.columns:\n",
    "        # Replace None and empty strings with pd.NA\n",
    "        df[col] = df[col].replace({None: pd.NA, '': pd.NA})\n",
    "        \n",
    "        # Try to convert to numeric (int or float), preserving NaN values\n",
    "        numeric_col = pd.to_numeric(df[col], errors='coerce')\n",
    "        if numeric_col.notna().any():  # Check if numeric conversion was partially successful\n",
    "            df[col] = numeric_col\n",
    "        else:\n",
    "            # Try to convert to datetime\n",
    "            datetime_col = pd.to_datetime(df[col], errors='coerce')\n",
    "            if datetime_col.notna().any():  # Check if datetime conversion was partially successful\n",
    "                df[col] = datetime_col\n",
    "            else:\n",
    "                # If both conversions fail, leave as object\n",
    "                df[col] = df[col].astype('object')\n",
    "        \n",
    "        # If column is float64 and all non-NaN values are integers, convert to Int64\n",
    "        if df[col].dtype == 'float64' and df[col].dropna().apply(float.is_integer).all():\n",
    "            df[col] = df[col].astype('Int64')\n",
    "    \n",
    "    return df\n",
    "\n",
    "# Example usage with missing values\n",
    "data = {\n",
    "    'int_column': ['1', '2', '3', None],\n",
    "    'float_column': ['1.1', '2.2', '3.3', None],\n",
    "    'date_column': ['2021-01-01', '2021-02-01', None, '2021-03-01'],\n",
    "    'str_column': ['A', None, 'B', 'C']\n",
    "}\n",
    "\n",
    "df = pd.DataFrame(data)\n",
    "converted_df = convert_column_types(df)\n",
    "print(converted_df.dtypes)"
   ]
  },
  {
   "cell_type": "code",
   "execution_count": null,
   "id": "490bc9eb-4cfd-4123-8f47-bd8fa7b1bbb7",
   "metadata": {},
   "outputs": [],
   "source": []
  }
 ],
 "metadata": {
  "kernelspec": {
   "display_name": "Python 3 (ipykernel)",
   "language": "python",
   "name": "python3"
  },
  "language_info": {
   "codemirror_mode": {
    "name": "ipython",
    "version": 3
   },
   "file_extension": ".py",
   "mimetype": "text/x-python",
   "name": "python",
   "nbconvert_exporter": "python",
   "pygments_lexer": "ipython3",
   "version": "3.11.4"
  }
 },
 "nbformat": 4,
 "nbformat_minor": 5
}
