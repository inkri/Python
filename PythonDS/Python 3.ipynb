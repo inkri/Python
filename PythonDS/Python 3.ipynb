{
 "cells": [
  {
   "cell_type": "markdown",
   "metadata": {},
   "source": [
    "<div align=\"center\">\n",
    "    <font size = 3 color=\"orange\" style=\"font-family: 'Comic Sans MS'\">// ज्ञानं परमं बलम् //</font><br>\n",
    "</div>\n",
    "<img src = \"https://www.python.org/static/community_logos/python-logo-master-v3-TM.png\" width=\"50%\" height=\"50%\">\n",
    "<div align=\"center\" id=\"contents\"> <font size=\"5\" color=\"orange\"><b>PYTHON PROGRAMMING LANGUAGE</b></font> </div>\n",
    "\n",
    "<div align=\"left\"> <font size=\"4\" color=\"red\"><b>TABLE OF CONTENTS</b></font> </div>\n",
    "<ol type=\"square\">\n",
    "    <li><a href=\"#intro\">Introduction\n",
    "    <li><a href=\"#datatype\">Data types and Operations</a></li>\n",
    "    <li><a href=\"#variables\">Variables and Collections</a></li>\n",
    "</ol>"
   ]
  },
  {
   "cell_type": "markdown",
   "metadata": {},
   "source": [
    "<div align=\"left\" id=\"intro\"><a href=\"#contents\"><font size=\"4\" color=\"red\"><b>INTRODUCTION</b></font></a></div>\n"
   ]
  },
  {
   "cell_type": "markdown",
   "metadata": {},
   "source": [
    "<b>Q1.</b> Write a code to check which Python version you are using."
   ]
  },
  {
   "cell_type": "code",
   "execution_count": 1,
   "metadata": {},
   "outputs": [
    {
     "name": "stdout",
     "output_type": "stream",
     "text": [
      "3.7.3 (default, Apr 24 2019, 15:29:51) [MSC v.1915 64 bit (AMD64)]\n"
     ]
    }
   ],
   "source": [
    "import sys\n",
    "print(sys.version)"
   ]
  },
  {
   "cell_type": "markdown",
   "metadata": {},
   "source": [
    "<div align=\"left\" id=\"datatype\"><a href=\"#contents\"><font size=\"4\" color=\"red\"><b>DATA TYPE AND OPERATIONS</b></font>"
   ]
  },
  {
   "cell_type": "markdown",
   "metadata": {},
   "source": [
    "<b>Q2.</b> Among the data types you have learned, which ones are mutable? Create a mutable object and write a code to edit it"
   ]
  },
  {
   "cell_type": "code",
   "execution_count": 2,
   "metadata": {},
   "outputs": [
    {
     "name": "stdout",
     "output_type": "stream",
     "text": [
      "Before edit x is: [1, 2, 3]\n",
      "After edit x is: ['new', 2, 3]\n"
     ]
    }
   ],
   "source": [
    "#list, dict, set are mutable objects\n",
    "x = [1,2,3]\n",
    "print(\"Before edit x is:\", x)\n",
    "x[0] = \"new\"\n",
    "print(\"After edit x is:\", x)"
   ]
  },
  {
   "cell_type": "markdown",
   "metadata": {},
   "source": [
    "<b>Q3.</b> Among the data types you have learned, which ones are immutable? Create an immutable object and write a code to edit it to show that it throws an error"
   ]
  },
  {
   "cell_type": "code",
   "execution_count": 3,
   "metadata": {},
   "outputs": [
    {
     "ename": "TypeError",
     "evalue": "'tuple' object does not support item assignment",
     "output_type": "error",
     "traceback": [
      "\u001b[1;31m---------------------------------------------------------------------------\u001b[0m",
      "\u001b[1;31mTypeError\u001b[0m                                 Traceback (most recent call last)",
      "\u001b[1;32m<ipython-input-3-bf39091609e2>\u001b[0m in \u001b[0;36m<module>\u001b[1;34m\u001b[0m\n\u001b[0;32m      1\u001b[0m \u001b[1;31m#int, float, complex, string, tuple are immutable objects\u001b[0m\u001b[1;33m\u001b[0m\u001b[1;33m\u001b[0m\u001b[1;33m\u001b[0m\u001b[0m\n\u001b[0;32m      2\u001b[0m \u001b[0my\u001b[0m \u001b[1;33m=\u001b[0m \u001b[1;33m(\u001b[0m\u001b[1;36m1\u001b[0m\u001b[1;33m,\u001b[0m\u001b[1;36m2\u001b[0m\u001b[1;33m,\u001b[0m\u001b[1;36m3\u001b[0m\u001b[1;33m)\u001b[0m\u001b[1;33m\u001b[0m\u001b[1;33m\u001b[0m\u001b[0m\n\u001b[1;32m----> 3\u001b[1;33m \u001b[0my\u001b[0m\u001b[1;33m[\u001b[0m\u001b[1;36m0\u001b[0m\u001b[1;33m]\u001b[0m \u001b[1;33m=\u001b[0m \u001b[1;34m\"new\"\u001b[0m\u001b[1;33m\u001b[0m\u001b[1;33m\u001b[0m\u001b[0m\n\u001b[0m",
      "\u001b[1;31mTypeError\u001b[0m: 'tuple' object does not support item assignment"
     ]
    }
   ],
   "source": [
    "#int, float, complex, string, tuple are immutable objects\n",
    "y = (1,2,3)\n",
    "y[0] = \"new\""
   ]
  },
  {
   "cell_type": "markdown",
   "metadata": {},
   "source": [
    "<b>Q4.</b> Write a code to show Python does not create new copies of a variable in a new memory location"
   ]
  },
  {
   "cell_type": "code",
   "execution_count": 4,
   "metadata": {},
   "outputs": [
    {
     "name": "stdout",
     "output_type": "stream",
     "text": [
      "Location of x 2008264082440 \tValue of x [1, 2, 4]\n"
     ]
    }
   ],
   "source": [
    "x=[1,2,4]\n",
    "print (\"Location of x\",id(x), \"\\tValue of x\", x) #id() function tells you the location of a variable in memory"
   ]
  },
  {
   "cell_type": "code",
   "execution_count": 5,
   "metadata": {},
   "outputs": [
    {
     "name": "stdout",
     "output_type": "stream",
     "text": [
      "Location of y 2008264082440 \tValue of y [1, 2, 4]\n"
     ]
    }
   ],
   "source": [
    "y=x\n",
    "print (\"Location of y\",id(y), \"\\tValue of y\", y)"
   ]
  },
  {
   "cell_type": "markdown",
   "metadata": {},
   "source": [
    "<b>Q5.</b> Write a code to show copies of a mutable variable will be changed if any changes are made to the original variable"
   ]
  },
  {
   "cell_type": "code",
   "execution_count": 6,
   "metadata": {},
   "outputs": [
    {
     "name": "stdout",
     "output_type": "stream",
     "text": [
      "x is: ['new', 2, 4]  and y is: ['new', 2, 4]\n"
     ]
    }
   ],
   "source": [
    "x[0] = \"new\"\n",
    "print(\"x is:\", x,\" and y is:\", y)"
   ]
  },
  {
   "cell_type": "markdown",
   "metadata": {},
   "source": [
    "<div align=\"left\" id=\"variables\"><a href=\"#contents\"><font size=\"4\" color=\"red\"><b>VARIABLES AND COLLECTIONS</b></font></a></div>\n",
    "<ol type=\"square\">\n",
    "    <li><a href=\"#variables_lists\">Lists</a></li>\n",
    "    <li><a href=\"#variables_tuples\">Tuples</a></li>\n",
    "    <li><a href=\"#variables_dict\">Dictionaries</a></li>\n",
    "    <li><a href=\"#variables_sets\">Sets</a></li>\n",
    "    <li><a href=\"#variables_sets\">Strings</a></li>\n",
    "</ol>"
   ]
  },
  {
   "cell_type": "markdown",
   "metadata": {},
   "source": [
    "<div align=\"left\"  id=\"variables_lists\"><a href=\"#variables\"><font size=\"3\" color=\"black\"><b>Lists</b></font><a></div>"
   ]
  },
  {
   "cell_type": "markdown",
   "metadata": {},
   "source": [
    "<b>Q6.</b> Create a list variable \"a\" with four elements each belonging to different data-types (i.e. int, float, string, boolean etc) "
   ]
  },
  {
   "cell_type": "code",
   "execution_count": 7,
   "metadata": {},
   "outputs": [
    {
     "name": "stdout",
     "output_type": "stream",
     "text": [
      "[1, 1.25, 'new', True]\n"
     ]
    }
   ],
   "source": [
    "a = [1,1.25,\"new\",True]\n",
    "print(a)"
   ]
  },
  {
   "cell_type": "markdown",
   "metadata": {},
   "source": [
    "<b>Q7.</b> Write code to reverse the list \"a\" created above"
   ]
  },
  {
   "cell_type": "code",
   "execution_count": 8,
   "metadata": {},
   "outputs": [
    {
     "data": {
      "text/plain": [
       "[True, 'new', 1.25, 1]"
      ]
     },
     "execution_count": 8,
     "metadata": {},
     "output_type": "execute_result"
    }
   ],
   "source": [
    "a[::-1]"
   ]
  },
  {
   "cell_type": "markdown",
   "metadata": {},
   "source": [
    "<b>Q8.</b> Write code to interchange the first and the last element of the list \"a\" created above. e.g. if a = [1,2,3,4], print [4,2,3,1]"
   ]
  },
  {
   "cell_type": "code",
   "execution_count": 9,
   "metadata": {},
   "outputs": [
    {
     "name": "stdout",
     "output_type": "stream",
     "text": [
      "[True, 1.25, 'new', 1]\n"
     ]
    }
   ],
   "source": [
    "a[0], a[-1] = a[-1], a[0]\n",
    "print(a)"
   ]
  },
  {
   "cell_type": "markdown",
   "metadata": {},
   "source": [
    "<b>Q9.</b> You are given x = [1,2,3] and y = [4,5,6]. Write a code to <u><i>extend</i></u> \"x\" with \"y\" and also another code to <u><i>append</i></u> \"y\" to \"x\". Understand the difference between <u><i>append</i></u> and <u><i>extend</i></u>"
   ]
  },
  {
   "cell_type": "code",
   "execution_count": 10,
   "metadata": {},
   "outputs": [
    {
     "name": "stdout",
     "output_type": "stream",
     "text": [
      "[1, 2, 3, [4, 5, 6]]\n"
     ]
    }
   ],
   "source": [
    "x = [1,2,3]\n",
    "y = [4,5,6]\n",
    "x.append(y)\n",
    "print(x)"
   ]
  },
  {
   "cell_type": "code",
   "execution_count": 11,
   "metadata": {},
   "outputs": [
    {
     "name": "stdout",
     "output_type": "stream",
     "text": [
      "[1, 2, 3, [4, 5, 6], 4, 5, 6]\n"
     ]
    }
   ],
   "source": [
    "x.extend(y)\n",
    "print(x)"
   ]
  },
  {
   "cell_type": "markdown",
   "metadata": {},
   "source": [
    "<b>Q10.</b> Create a list b = [1,2,3,4,5,6,7,8,9,10]. Using this list, write a code to print following:<br>\n",
    "<ol>\n",
    "    <li>[7,8,9,10]</li>\n",
    "    <li>[1,2,3,4,5]</li>\n",
    "    <li>[2,5,8]</li>\n",
    "    <li>[10,9,8,7]</li>\n",
    "    <li>[9,7,5]</li>\n",
    "</ol>"
   ]
  },
  {
   "cell_type": "code",
   "execution_count": 12,
   "metadata": {},
   "outputs": [
    {
     "name": "stdout",
     "output_type": "stream",
     "text": [
      "[7, 8, 9, 10]\n",
      "[1, 2, 3, 4, 5]\n",
      "[2, 5, 8]\n",
      "[10, 9, 8, 7]\n",
      "[9, 7, 5]\n"
     ]
    }
   ],
   "source": [
    "b = [1,2,3,4,5,6,7,8,9,10]\n",
    "print(b[6:])\n",
    "print(b[:5])\n",
    "print(b[1:8:3])\n",
    "print(b[9:5:-1])\n",
    "print(b[8:3:-2])"
   ]
  },
  {
   "cell_type": "markdown",
   "metadata": {},
   "source": [
    "<b>Q11.</b> Create a list c = [1,2,[3,4,[5,6]],[7,[8,9],10]]. Using this list, write a code to print following in seperate lines:<br>\n",
    "<ul>\n",
    "    <li>2</li>\n",
    "    <li>4</li>\n",
    "    <li>6</li>\n",
    "    <li>9</li>\n",
    "    <li>10</li>\n",
    "</ul>"
   ]
  },
  {
   "cell_type": "code",
   "execution_count": 13,
   "metadata": {},
   "outputs": [
    {
     "name": "stdout",
     "output_type": "stream",
     "text": [
      "2\n",
      "4\n",
      "6\n",
      "9\n",
      "10\n"
     ]
    }
   ],
   "source": [
    "c = [1,2,[3,4,[5,6]],[7,[8,9],10]]\n",
    "print(c[1])\n",
    "print(c[2][1])\n",
    "print(c[2][2][1])\n",
    "print(c[3][1][1])\n",
    "print(c[3][2])"
   ]
  },
  {
   "cell_type": "markdown",
   "metadata": {},
   "source": [
    "<b>Q12.</b> Create a list d = [4,3,2,1,5,8,9]. Google how you can do the following:<br>\n",
    "<ul>\n",
    "    <li>print length of the list</li>\n",
    "    <li>print max element inside the list i.e. 9</li>\n",
    "    <li>print min element inside the list i.e. 1</li>\n",
    "    <li>sort this list in ascending order and print [1,2,3,4,5,8,9]</li>\n",
    "    <li>sort this list in descending order and print [9,8,5,4,3,2,1]</li>\n",
    "</ul>"
   ]
  },
  {
   "cell_type": "code",
   "execution_count": 14,
   "metadata": {},
   "outputs": [
    {
     "name": "stdout",
     "output_type": "stream",
     "text": [
      "7\n",
      "9\n",
      "1\n",
      "[1, 2, 3, 4, 5, 8, 9]\n",
      "[9, 8, 5, 4, 3, 2, 1]\n"
     ]
    }
   ],
   "source": [
    "d = [4,3,2,1,5,8,9]\n",
    "print(len(d))\n",
    "print(max(d))\n",
    "print(min(d))\n",
    "d.sort()\n",
    "print(d)\n",
    "d.sort(reverse=True)\n",
    "print(d)"
   ]
  },
  {
   "cell_type": "markdown",
   "metadata": {},
   "source": [
    "<div align=\"left\"  id=\"variables_tuples\"><a href=\"#variables\"><font size=\"3\" color=\"black\"><b>Tuples</b></font></a></div>"
   ]
  },
  {
   "cell_type": "markdown",
   "metadata": {},
   "source": [
    "<b>Q13.</b> Create two tuples a = (1,2), b = (3,4). Swap the values i.e. b should be (1,2) and a should be (3,4)"
   ]
  },
  {
   "cell_type": "code",
   "execution_count": 15,
   "metadata": {},
   "outputs": [
    {
     "name": "stdout",
     "output_type": "stream",
     "text": [
      "Before a= (1, 2)  b= (3, 4)\n",
      "After a= (3, 4)  b= (1, 2)\n"
     ]
    }
   ],
   "source": [
    "a,b = (1,2), (3,4)\n",
    "print(\"Before a=\",a,\" b=\",b)\n",
    "a,b = b,a\n",
    "print(\"After a=\",a,\" b=\",b)"
   ]
  },
  {
   "cell_type": "markdown",
   "metadata": {},
   "source": [
    "<div align=\"left\"  id=\"variables_dict\"><a href=\"#variables\"><font size=\"3\" color=\"black\"><b>Dictionaries</b></font></a></div>"
   ]
  },
  {
   "cell_type": "markdown",
   "metadata": {},
   "source": [
    "<b>Q14.</b> You are given following two lists:<br>\n",
    "    names = [\"Rahul\",\"Venkat\",\"Rahim\",\"Manpreet\"]<br>\n",
    "    PCM_marks = [[100, 94, 96],[95, 98, 90],[99, 84, 93],[89, 97, 92]]<br>\n",
    "Convert these two lists into a dictionary with \"names\" as keys and \"PCM_marks\" as values(PCM = Physics, Chemistry, Maths)"
   ]
  },
  {
   "cell_type": "code",
   "execution_count": 16,
   "metadata": {},
   "outputs": [
    {
     "name": "stdout",
     "output_type": "stream",
     "text": [
      "{'Rahul': [100, 94, 96], 'Venkat': [95, 98, 90], 'Rahim': [99, 84, 93], 'Manpreet': [89, 97, 92]}\n"
     ]
    }
   ],
   "source": [
    "names = [\"Rahul\",\"Venkat\",\"Rahim\",\"Manpreet\"]\n",
    "PCM_marks = [[100, 94, 96],[95, 98, 90],[99, 84, 93],[89, 97, 92]]\n",
    "exam = dict(zip(names, PCM_marks))\n",
    "print(exam)"
   ]
  },
  {
   "cell_type": "markdown",
   "metadata": {},
   "source": [
    "<b>Q15.</b> Change marks obtained by \"Manpreet\" to [88, 98, 93]. Print the dictionary"
   ]
  },
  {
   "cell_type": "code",
   "execution_count": 17,
   "metadata": {},
   "outputs": [
    {
     "name": "stdout",
     "output_type": "stream",
     "text": [
      "{'Rahul': [100, 94, 96], 'Venkat': [95, 98, 90], 'Rahim': [99, 84, 93], 'Manpreet': [88, 98, 93]}\n"
     ]
    }
   ],
   "source": [
    "exam[\"Manpreet\"] = [88,98,93]\n",
    "print(exam)"
   ]
  },
  {
   "cell_type": "markdown",
   "metadata": {},
   "source": [
    "<b>Q16.</b> Change marks obtained by \"Rahim\" in Physics from 99 to 97. Print the dictionary"
   ]
  },
  {
   "cell_type": "code",
   "execution_count": 18,
   "metadata": {},
   "outputs": [
    {
     "name": "stdout",
     "output_type": "stream",
     "text": [
      "{'Rahul': [100, 94, 96], 'Venkat': [95, 98, 90], 'Rahim': [97, 84, 93], 'Manpreet': [88, 98, 93]}\n"
     ]
    }
   ],
   "source": [
    "exam[\"Rahim\"][0] = 97\n",
    "print(exam)"
   ]
  },
  {
   "cell_type": "markdown",
   "metadata": {},
   "source": [
    "<b>Q17.</b> Everyone - Rahul, Venkat, Rahim and Manpreet - obtained 100 marks in Physical Education. Add this to everyone's list for marks obtained e.g. for Rahul the dictionary will show [100,94,96,100] as marks obtained. Print the dictionary"
   ]
  },
  {
   "cell_type": "code",
   "execution_count": 19,
   "metadata": {},
   "outputs": [
    {
     "name": "stdout",
     "output_type": "stream",
     "text": [
      "{'Rahul': [100, 94, 96, 100], 'Venkat': [95, 98, 90, 100], 'Rahim': [97, 84, 93, 100], 'Manpreet': [88, 98, 93, 100]}\n"
     ]
    }
   ],
   "source": [
    "exam[\"Rahul\"].append(100)\n",
    "exam[\"Venkat\"].append(100)\n",
    "exam[\"Rahim\"].append(100)\n",
    "exam[\"Manpreet\"].append(100)\n",
    "print(exam)"
   ]
  },
  {
   "cell_type": "markdown",
   "metadata": {},
   "source": [
    "<b>Q18.</b> Print marks obtained by every student. Who got the highest marks?"
   ]
  },
  {
   "cell_type": "code",
   "execution_count": 20,
   "metadata": {},
   "outputs": [
    {
     "name": "stdout",
     "output_type": "stream",
     "text": [
      "Rahul obtained 390 marks\n",
      "Venkat obtained 383 marks\n",
      "Rahim obtained 374 marks\n",
      "Manpreet obtained 379 marks\n"
     ]
    }
   ],
   "source": [
    "print(\"Rahul obtained\",sum(exam[\"Rahul\"]), \"marks\")\n",
    "print(\"Venkat obtained\",sum(exam[\"Venkat\"]), \"marks\")\n",
    "print(\"Rahim obtained\",sum(exam[\"Rahim\"]), \"marks\")\n",
    "print(\"Manpreet obtained\",sum(exam[\"Manpreet\"]), \"marks\")"
   ]
  },
  {
   "cell_type": "markdown",
   "metadata": {},
   "source": [
    "<div align=\"left\"  id=\"variables_sets\"><a href=\"#variables\"> <font size=\"3\" color=\"black\"><b>Sets</b></font></a></div>"
   ]
  },
  {
   "cell_type": "markdown",
   "metadata": {},
   "source": [
    "<b>Q19.</b> Create a list e = [1,2,2,3,5,6,7,7]. Remove duplicate elements from this list and print the output list\n",
    "<div align=\"right\">\n",
    "<a href=\"#createvar\" class=\"btn btn-default\" data-toggle=\"collapse\">Click here for hint</a>\n",
    "</div>\n",
    "<div id=\"createvar\" class=\"collapse\">\n",
    "You can first convert \"e\" to a set using set() function and then back to list using list() function\n",
    "</div>"
   ]
  },
  {
   "cell_type": "code",
   "execution_count": 21,
   "metadata": {},
   "outputs": [
    {
     "name": "stdout",
     "output_type": "stream",
     "text": [
      "[1, 2, 3, 5, 6, 7]\n"
     ]
    }
   ],
   "source": [
    "e = [1,2,2,3,5,6,7,7]\n",
    "print(list(set(e)))"
   ]
  },
  {
   "cell_type": "markdown",
   "metadata": {},
   "source": [
    "<b>Q20.</b> You are given two Python lists [1,2,3,4] and [4,5,6,7]. Print the common elements in the two lists using sets\n",
    "<div align=\"right\">\n",
    "<a href=\"#createvar1\" class=\"btn btn-default\" data-toggle=\"collapse\">Click here for hint</a>\n",
    "</div>\n",
    "<div id=\"createvar1\" class=\"collapse\">\n",
    "Google to find the set method which gives you the intersection of two sets\n",
    "</div>"
   ]
  },
  {
   "cell_type": "code",
   "execution_count": 22,
   "metadata": {},
   "outputs": [
    {
     "data": {
      "text/plain": [
       "[4]"
      ]
     },
     "execution_count": 22,
     "metadata": {},
     "output_type": "execute_result"
    }
   ],
   "source": [
    "list(set([1,2,3,4]).intersection(set([4,5,6,7])))"
   ]
  },
  {
   "cell_type": "markdown",
   "metadata": {},
   "source": [
    "<div align=\"left\"  id=\"variables_strings\"><a href=\"#variables\"> <font size=\"3\" color=\"black\"><b>Strings</b></font></a></div>"
   ]
  },
  {
   "cell_type": "markdown",
   "metadata": {},
   "source": [
    "<b>Q21.</b> Create a string s = \"Python is Magic!\". Using this string, write a code to print following:<br>\n",
    "<ol>\n",
    "    <li>hon i</li>\n",
    "    <li>i noh</li>\n",
    "    <li>!cigaM</li>\n",
    "    <li>reverse the string \"s\"</li>\n",
    "</ol>"
   ]
  },
  {
   "cell_type": "code",
   "execution_count": 23,
   "metadata": {},
   "outputs": [
    {
     "name": "stdout",
     "output_type": "stream",
     "text": [
      "hon i\n",
      "i noh\n",
      "!cigaM \n",
      "!cigaM si nohtyP\n"
     ]
    }
   ],
   "source": [
    "s = \"Python is Magic!\"\n",
    "print(s[3:8])\n",
    "print(s[3:8][::-1])\n",
    "print(s[:8:-1])\n",
    "print(s[::-1])"
   ]
  },
  {
   "cell_type": "markdown",
   "metadata": {},
   "source": [
    "<b>Q22.</b> Using the string \"s\" and your googling skills, do the following<br>\n",
    "<ol>\n",
    "    <li>Convert \"s\" to lowercase and print it</li>\n",
    "    <li>Convert \"s\" to uppercase and print it</li>\n",
    "    <li>Find at which location/index \"M\" occurs</li>\n",
    "    <li>Find at which location/index \"th\" occurs</li>\n",
    "    <li>Check if \"s\" only has alphabets</li>\n",
    "    <li>Replace \"Magic\" with \"Best\"</li>\n",
    "    <li>Split \"s\" into a list [\"Python\", \"is\", \"Magic!\"]</li>\n",
    "</ol>"
   ]
  },
  {
   "cell_type": "code",
   "execution_count": 24,
   "metadata": {},
   "outputs": [
    {
     "name": "stdout",
     "output_type": "stream",
     "text": [
      "python is magic!\n",
      "PYTHON IS MAGIC!\n",
      "10\n",
      "2\n",
      "False\n",
      "Python is Best!\n",
      "['Python', 'is', 'Magic!']\n"
     ]
    }
   ],
   "source": [
    "print(s.lower())\n",
    "print(s.upper())\n",
    "print(s.find(\"M\"))\n",
    "print(s.find(\"th\"))\n",
    "print(s.isalpha())\n",
    "print(s.replace(\"Magic\",\"Best\"))\n",
    "print(s.split())"
   ]
  },
  {
   "cell_type": "markdown",
   "metadata": {},
   "source": [
    "<font size = 10 color=\"green\">\"</font><br>\n",
    "<div align = center> \n",
    "    <font size = 5 color=\"green\" style=\"font-family: 'Comic Sans MS'\">Pass on what you have learned</font><br>\n",
    "</div>\n",
    "<div align = right> \n",
    "    <font size = 10 color=\"green\"t>\"</font><br>\n",
    "</div>\n",
    "<img align = \"right\" src = \"https://orig00.deviantart.net/ff5e/f/2013/102/4/4/yoda_by_valval-d61g9rh.png\" width=\"20%\" height=\"20%\">"
   ]
  }
 ],
 "metadata": {
  "kernelspec": {
   "display_name": "Python 3",
   "language": "python",
   "name": "python3"
  },
  "language_info": {
   "codemirror_mode": {
    "name": "ipython",
    "version": 3
   },
   "file_extension": ".py",
   "mimetype": "text/x-python",
   "name": "python",
   "nbconvert_exporter": "python",
   "pygments_lexer": "ipython3",
   "version": "3.8.3"
  }
 },
 "nbformat": 4,
 "nbformat_minor": 2
}
