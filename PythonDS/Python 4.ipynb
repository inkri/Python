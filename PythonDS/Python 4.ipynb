{
 "cells": [
  {
   "cell_type": "markdown",
   "metadata": {},
   "source": [
    "<div align=\"center\">\n",
    "    <font size = 3 color=\"orange\" style=\"font-family: 'Comic Sans MS'\">// ज्ञानं परमं बलम् //</font><br>\n",
    "</div>\n",
    "<img src = \"https://www.python.org/static/community_logos/python-logo-master-v3-TM.png\" width=\"50%\" height=\"50%\">\n",
    "<div align=\"center\" id=\"contents\"> <font size=\"5\" color=\"orange\"><b>PYTHON PROGRAMMING LANGUAGE</b></font> </div>\n",
    "\n",
    "<div align=\"left\"> <font size=\"4\" color=\"red\"><b>TABLE OF CONTENTS</b></font> </div>\n",
    "<ul type=\"square\">\n",
    "    <li>Control Flow and Loops</li>\n",
    "    <ul type=\"square\">\n",
    "        <li>if-elif-else</li>\n",
    "        <li>'for' loop</li>\n",
    "        <li>'while' loop</li>\n",
    "    </ul>\n",
    "    <li>Functions</li>\n",
    "</ul>"
   ]
  },
  {
   "cell_type": "markdown",
   "metadata": {},
   "source": [
    "<b>Generic tips for writing functions -</b>\n",
    "<font color=\"green\"><ul type=\"square\">\n",
    "    <li>Thoroughly understand what is going to be the input and output of the function</li>\n",
    "    <li>Assume some random value of each of the inputs and create variables for the same</li>\n",
    "    <li>Think about how you as a human will get to the output. List down the steps you will have to follow. This will help you break down the requirement into smaller components</li>\n",
    "    <li>Write code for each of the components or steps. Try to use inbuilt or module based pre-defined functions. Remember to keep things as simple as possible</li>\n",
    "    <li>Verify you are getting the correct output using the random inputs you assumed in step 2</li>\n",
    "    <li>If the output is correct, convert the code into a function</li>\n",
    "    <li>Do test your function with new values of all the parameters</li>\n",
    "</ul>\n",
    "</font>"
   ]
  },
  {
   "cell_type": "markdown",
   "metadata": {},
   "source": [
    "<b>Q1.</b> Write a function 'list_sum(lst)' to sum up elements of a given list e.g.<br>\n",
    "list_sum([1,2,3,4]) should give 10<br>\n",
    "list_sum([1,2,3,4,5]) should give 15"
   ]
  },
  {
   "cell_type": "code",
   "execution_count": 1,
   "metadata": {},
   "outputs": [
    {
     "name": "stdout",
     "output_type": "stream",
     "text": [
      "10\n",
      "15\n"
     ]
    }
   ],
   "source": [
    "def list_sum(a):\n",
    "    b = 0 \n",
    "    for i in a:\n",
    "        b = b+i\n",
    "    return b\n",
    "print(list_sum([1,2,3,4]))\n",
    "print(list_sum([1,2,3,4,5]))"
   ]
  },
  {
   "cell_type": "markdown",
   "metadata": {},
   "source": [
    "<b>Q2.</b> Write a function 'list_extremes(lst, option)' to get maximum or minimum element of a given list depending on what user wants e.g.<br>\n",
    "list_extremes([4,5,3,7,1], 'min') should give 1<br>\n",
    "list_extremes([4,5,3,7,1], 'max') should give 7"
   ]
  },
  {
   "cell_type": "code",
   "execution_count": 2,
   "metadata": {},
   "outputs": [
    {
     "name": "stdout",
     "output_type": "stream",
     "text": [
      "1\n",
      "7\n"
     ]
    }
   ],
   "source": [
    "def list_extremes(a, option):\n",
    "    b = a[0]\n",
    "    for i in a:\n",
    "        if option == 'max':\n",
    "            if b<i:\n",
    "                b = i\n",
    "            else:\n",
    "                b = b\n",
    "\n",
    "        if option == 'min':\n",
    "            if b>i:\n",
    "                b = i\n",
    "            else:\n",
    "                b = b\n",
    "    return b \n",
    "print(list_extremes([4,5,3,7,1], 'min'))\n",
    "print(list_extremes([4,5,3,7,1], 'max'))"
   ]
  },
  {
   "cell_type": "markdown",
   "metadata": {},
   "source": [
    "<b>Q2.a.</b> Can you also find top N largest and smallest elements from a list e.g.<br>\n",
    "list_extremes([4,5,3,7,1,2,8,9,6], 'min', 3) = [1,2,3]<br>\n",
    "list_extremes([4,5,3,7,1,2,8,9,6], 'max', 4) = [6,7,8,9] = 42\n"
   ]
  },
  {
   "cell_type": "code",
   "execution_count": 3,
   "metadata": {},
   "outputs": [
    {
     "name": "stdout",
     "output_type": "stream",
     "text": [
      "[1, 2, 3]\n",
      "[9, 8, 7, 6]\n"
     ]
    }
   ],
   "source": [
    "def list_extremes(lst, option, n):\n",
    "    if option == 'min':\n",
    "        lst.sort(reverse = False)\n",
    "    if option == 'max':\n",
    "        lst.sort(reverse = True)\n",
    "    return lst[0:n]\n",
    "    \n",
    "print(list_extremes([4,5,3,7,1,2,8,9,6], 'min', 3))\n",
    "print(list_extremes([4,5,3,7,1,2,8,9,6], 'max', 4))"
   ]
  },
  {
   "cell_type": "markdown",
   "metadata": {},
   "source": [
    "<b>Q3.</b> Write a function 'list_mean(lst)' to find mean or average of elements of a given list e.g.<br>\n",
    "list_mean([1,2,3,4]) should give 2.5<br>\n",
    "list_mean([1,2,3,4,5]) should give 3<br>"
   ]
  },
  {
   "cell_type": "code",
   "execution_count": 4,
   "metadata": {},
   "outputs": [
    {
     "name": "stdout",
     "output_type": "stream",
     "text": [
      "2.5\n",
      "3.0\n"
     ]
    }
   ],
   "source": [
    "def list_mean(lst):\n",
    "    return list_sum(lst)/len(lst)\n",
    "print(list_mean([1,2,3,4]))\n",
    "print(list_mean([1,2,3,4,5]))"
   ]
  },
  {
   "cell_type": "markdown",
   "metadata": {},
   "source": [
    "<b>Q4.</b> Write a function 'factorial(n)' to find factorial of a given positive number using (a) for loop (b) while loop e.g.<br>\n",
    "factorial(5) = 5x4x3x2x1 = 120<br>\n",
    "factorial(6) = 6x5x4x3x2x1 = 720"
   ]
  },
  {
   "cell_type": "code",
   "execution_count": 5,
   "metadata": {},
   "outputs": [
    {
     "name": "stdout",
     "output_type": "stream",
     "text": [
      "120\n",
      "720\n"
     ]
    }
   ],
   "source": [
    "def factorial(n):\n",
    "    m = 1\n",
    "    while n>1:\n",
    "        m = m*n\n",
    "        n = n-1\n",
    "    return m\n",
    "print(factorial(5))\n",
    "print(factorial(6))"
   ]
  },
  {
   "cell_type": "markdown",
   "metadata": {},
   "source": [
    "<b>Q5.</b> Write a function 'multiples(lst, start, end)' to find the sum of all numbers between 'start' and 'end'(both included) which are multiple of ANY of the numbers inside the list 'lst' e.g.<br>\n",
    "multiples([2,3], 0, 10) = 2+3+4+6+8+9+10 = 42<br>\n",
    "multiples([7,5], 10, 40) = 14+15+20+21+25+28+30+35+40 = 238"
   ]
  },
  {
   "cell_type": "code",
   "execution_count": 6,
   "metadata": {},
   "outputs": [
    {
     "name": "stdout",
     "output_type": "stream",
     "text": [
      "42\n",
      "238\n"
     ]
    }
   ],
   "source": [
    "def multiples(lst,start,end):\n",
    "    b = []\n",
    "    for i in range(start,end+1):\n",
    "        for j in lst:\n",
    "            if i%j == 0:\n",
    "                b.append(i)\n",
    "    return sum(set(b))\n",
    "print(multiples([2,3], 0, 10))\n",
    "print(multiples([7,5], 10, 40))"
   ]
  },
  {
   "cell_type": "markdown",
   "metadata": {},
   "source": [
    "<b>Q6.</b> Write a function 'is_prime(n)' to find if a given number is prime or not e.g.<br>\n",
    "is_prime(23) = True<br>\n",
    "is_prime(100) = False<br>\n",
    "Find the sum of prime numbers between 1 and 1000."
   ]
  },
  {
   "cell_type": "code",
   "execution_count": 7,
   "metadata": {},
   "outputs": [
    {
     "data": {
      "text/plain": [
       "(True, False)"
      ]
     },
     "execution_count": 7,
     "metadata": {},
     "output_type": "execute_result"
    }
   ],
   "source": [
    "def is_prime(n):\n",
    "    if n==1: return False\n",
    "    for i in range(2,n):\n",
    "        if n%i == 0:\n",
    "            return False\n",
    "    return True\n",
    "is_prime(23), is_prime(100)"
   ]
  },
  {
   "cell_type": "code",
   "execution_count": 8,
   "metadata": {},
   "outputs": [
    {
     "data": {
      "text/plain": [
       "76127"
      ]
     },
     "execution_count": 8,
     "metadata": {},
     "output_type": "execute_result"
    }
   ],
   "source": [
    "sum([i for i in range(1,1001) if is_prime(i)==True])"
   ]
  },
  {
   "cell_type": "markdown",
   "metadata": {},
   "source": [
    "<b>Q7.</b> Fibonacci series starts with two numbers 0 and 1 and each subsequent number is a sum of previous two numbers. Write a function 'fibonacci(n)' to print first 'n' fibonacci numbers e.g.<br>\n",
    "fibonacci(5) = 0,1,1,2,3<br>\n",
    "fibonacci(11) = 0,1,1,2,3,5,8,13,21,34,55"
   ]
  },
  {
   "cell_type": "code",
   "execution_count": 9,
   "metadata": {},
   "outputs": [
    {
     "name": "stdout",
     "output_type": "stream",
     "text": [
      "[0, 1, 1, 2, 3]\n",
      "[0, 1, 1, 2, 3, 5, 8, 13, 21, 34, 55]\n"
     ]
    }
   ],
   "source": [
    "def fibonacci(n):\n",
    "    fib = [0,1]\n",
    "    for i in range(n-2):\n",
    "        fib.append(fib[-2]+fib[-1])\n",
    "    return fib\n",
    "print(fibonacci(5))\n",
    "print(fibonacci(11))"
   ]
  },
  {
   "cell_type": "markdown",
   "metadata": {},
   "source": [
    "<b>Q8.</b>Write a function 'ssq(n)' to get the sum of squares of first n natural numbers e.g.<br>\n",
    "ssq(3) = 1^2 + 2^2 + 3^2 = 1+4+9 = 14<br>\n",
    "ssq(5) = 1^2 + 2^2 + 3^2 + 4^2 + 5^2= 1+4+9+16+25 = 55"
   ]
  },
  {
   "cell_type": "code",
   "execution_count": 10,
   "metadata": {},
   "outputs": [
    {
     "name": "stdout",
     "output_type": "stream",
     "text": [
      "14\n",
      "55\n"
     ]
    }
   ],
   "source": [
    "def ssq(n):\n",
    "    tot = 0\n",
    "    for i in range(n):\n",
    "        tot += (i+1)**2\n",
    "    return tot\n",
    "print(ssq(3))\n",
    "print(ssq(5))"
   ]
  },
  {
   "cell_type": "markdown",
   "metadata": {},
   "source": [
    "<b>Q9.</b> Similar to Q8 above, write a function 'sum_of_mth_power(n,m)' to find sum of mth power of first n natural numbers e.g.<br>\n",
    "sum_of_mth_power(5,2) = 1^2 + 2^2 + 3^2 + 4^2 + 5^2= 1+4+9+16+25 = 55<br>\n",
    "sum_of_mth_power(5,3) = 1^3 + 2^3 + 3^3 + 4^3 + 5^3= 1+8+27+64+125 = 225"
   ]
  },
  {
   "cell_type": "code",
   "execution_count": 11,
   "metadata": {},
   "outputs": [
    {
     "name": "stdout",
     "output_type": "stream",
     "text": [
      "55\n",
      "225\n"
     ]
    }
   ],
   "source": [
    "def sum_of_mth_power(n,m):\n",
    "    tot = 0\n",
    "    for i in range(n):\n",
    "        tot += (i+1)**m\n",
    "    return tot\n",
    "print(sum_of_mth_power(5,2))\n",
    "print(sum_of_mth_power(5,3))"
   ]
  },
  {
   "cell_type": "markdown",
   "metadata": {},
   "source": [
    "<b>Q10.</b> Write a function vowel_consonent_count(s) to count how many vowels and consonents are there in the string 's' e.g.<br>\n",
    "vowel_consonent_count(\"Hello World!\") = [3, 7]<br>\n",
    "vowel_consonent_count(\"Barack Obama\") = [5, 6]"
   ]
  },
  {
   "cell_type": "code",
   "execution_count": 12,
   "metadata": {},
   "outputs": [
    {
     "name": "stdout",
     "output_type": "stream",
     "text": [
      "[3, 7]\n",
      "[4, 7]\n"
     ]
    }
   ],
   "source": [
    "def vowel_consonent_count(s):\n",
    "    vowels = \"aeiou\"\n",
    "    v_cnt = 0\n",
    "    c_cnt = 0\n",
    "    for c in s:\n",
    "        if c.isalpha() and c in vowels:\n",
    "            v_cnt += 1\n",
    "        if c.isalpha() and c not in vowels:\n",
    "            c_cnt += 1\n",
    "    return [v_cnt, c_cnt]\n",
    "print(vowel_consonent_count(\"Hello World!\"))\n",
    "print(vowel_consonent_count(\"Barack Obama\") )"
   ]
  },
  {
   "cell_type": "markdown",
   "metadata": {},
   "source": [
    "<b>Q11.</b> Write a function letter_frequency(s) to store frequency of each letter in the string 's' with keys are distinct letters in the string and values as the count of occurence of each letter. Treat lowercase and uppercase as same i.e. a and A should be counted as same e.g.<br>\n",
    "letter_frequency(\"Barack Obama\") = {'b':2, 'a':4, 'r':1, 'c':1, 'k':1, ' ':1,'o':1, 'm':1}"
   ]
  },
  {
   "cell_type": "code",
   "execution_count": 13,
   "metadata": {},
   "outputs": [
    {
     "name": "stdout",
     "output_type": "stream",
     "text": [
      "{'b': 2, 'a': 4, 'r': 1, 'c': 1, 'k': 1, ' ': 1, 'o': 1, 'm': 1}\n"
     ]
    }
   ],
   "source": [
    "def letter_frequency(s):\n",
    "    d = {}\n",
    "    for c in s.lower():\n",
    "        if c in d.keys():\n",
    "            d[c] += 1\n",
    "        else:\n",
    "            d[c] = 1\n",
    "    return d\n",
    "print(letter_frequency(\"Barack Obama\"))"
   ]
  },
  {
   "cell_type": "markdown",
   "metadata": {},
   "source": [
    "<b>Q11.b.</b> Using the function letter_frequency(s), can you print the letters which occur multiple times in string 's'. Call this function duplicated_letters(s) e.g.<br>\n",
    "duplicated_letters(\"Barack Obama\") = ['b', 'a']<br>\n",
    "duplicated_letters(\"Utsav Awasthi\") = ['t', 's', 'a']<br>"
   ]
  },
  {
   "cell_type": "code",
   "execution_count": 14,
   "metadata": {},
   "outputs": [
    {
     "name": "stdout",
     "output_type": "stream",
     "text": [
      "['b', 'a']\n",
      "['t', 's', 'a']\n"
     ]
    }
   ],
   "source": [
    "def duplicated_letters(s):\n",
    "    d = letter_frequency(s)\n",
    "    return [c for c in d.keys() if d[c] > 1]\n",
    "print(duplicated_letters(\"Barack Obama\"))\n",
    "print(duplicated_letters(\"Utsav Awasthi\"))"
   ]
  },
  {
   "cell_type": "markdown",
   "metadata": {},
   "source": [
    "<b>Q12.a.</b> Use for loop to print the follow pattern:<br>\n",
    "<div>\n",
    "*<br>\n",
    "**<br>\n",
    "***<br>\n",
    "****<br>\n",
    "*****<br>\n",
    "</div>"
   ]
  },
  {
   "cell_type": "code",
   "execution_count": 15,
   "metadata": {},
   "outputs": [
    {
     "name": "stdout",
     "output_type": "stream",
     "text": [
      "*    \n",
      "**   \n",
      "***  \n",
      "**** \n",
      "*****\n"
     ]
    }
   ],
   "source": [
    "n = 5\n",
    "for i in range(n):\n",
    "    print(\"*\"*(i+1) + \" \"*(n-i-1))"
   ]
  },
  {
   "cell_type": "markdown",
   "metadata": {},
   "source": [
    "<b>Q12.b.</b> Use for loop to print the follow pattern:<br>\n",
    "<div>\n",
    "*****<br>\n",
    "****<br>\n",
    "***<br>\n",
    "**<br>\n",
    "*<br>\n",
    "</div>"
   ]
  },
  {
   "cell_type": "code",
   "execution_count": 16,
   "metadata": {},
   "outputs": [
    {
     "name": "stdout",
     "output_type": "stream",
     "text": [
      "***** \n",
      "****  \n",
      "***   \n",
      "**    \n",
      "*     \n"
     ]
    }
   ],
   "source": [
    "n = 5\n",
    "for i in range(n):\n",
    "    print(\"*\"*(n-i) + \" \"*(i+1))"
   ]
  },
  {
   "cell_type": "markdown",
   "metadata": {},
   "source": [
    "<b>Q12.c.</b> Use for loop to print the follow pattern:<br>\n",
    "<div>\n",
    "*****<br>\n",
    "&nbsp;****<br>\n",
    "&nbsp;&nbsp;***<br>\n",
    "&nbsp;&nbsp;&nbsp;**<br>\n",
    "&nbsp;&nbsp;&nbsp;&nbsp;*<br>\n",
    "</div>"
   ]
  },
  {
   "cell_type": "code",
   "execution_count": 17,
   "metadata": {},
   "outputs": [
    {
     "name": "stdout",
     "output_type": "stream",
     "text": [
      " *****\n",
      "  ****\n",
      "   ***\n",
      "    **\n",
      "     *\n"
     ]
    }
   ],
   "source": [
    "n = 5\n",
    "for i in range(n):\n",
    "    print(\" \"*(i+1) + \"*\"*(n-i))"
   ]
  },
  {
   "cell_type": "markdown",
   "metadata": {},
   "source": [
    "<b>Q12.d.</b> Use for loop to print the follow pattern:<br>\n",
    "<div>\n",
    "&nbsp;&nbsp;&nbsp;&nbsp;*<br>\n",
    "&nbsp;&nbsp;&nbsp;**<br>\n",
    "&nbsp;&nbsp;***<br>\n",
    "&nbsp;****<br>\n",
    "*****<br>\n",
    "</div>"
   ]
  },
  {
   "cell_type": "code",
   "execution_count": 18,
   "metadata": {},
   "outputs": [
    {
     "name": "stdout",
     "output_type": "stream",
     "text": [
      "    *\n",
      "   **\n",
      "  ***\n",
      " ****\n",
      "*****\n"
     ]
    }
   ],
   "source": [
    "n = 5\n",
    "for i in range(n):\n",
    "    print(\" \"*(n-i-1) + \"*\"*(i+1))"
   ]
  },
  {
   "cell_type": "markdown",
   "metadata": {},
   "source": [
    "<b>Q12.e.</b> Convert above examples to a function 'print_stars(n) which takes an integer 'n' as input and prints stars from 1 to n in separate lines. The above examples are for n=5."
   ]
  },
  {
   "cell_type": "code",
   "execution_count": 19,
   "metadata": {},
   "outputs": [
    {
     "name": "stdout",
     "output_type": "stream",
     "text": [
      "     *\n",
      "    **\n",
      "   ***\n",
      "  ****\n",
      " *****\n",
      "******\n"
     ]
    }
   ],
   "source": [
    "def print_stars(n):\n",
    "    for i in range(n):\n",
    "        print(\" \"*(n-i-1) + \"*\"*(i+1))\n",
    "print_stars(6)"
   ]
  },
  {
   "cell_type": "markdown",
   "metadata": {},
   "source": [
    "<font size = 10 color=\"green\">\"</font><br>\n",
    "<div align = center> \n",
    "    <font size = 5 color=\"green\" style=\"font-family: 'Comic Sans MS'\">Pass on what you have learned</font><br>\n",
    "</div>\n",
    "<div align = right> \n",
    "    <font size = 10 color=\"green\"t>\"</font><br>\n",
    "</div>\n",
    "<img align = \"right\" src = \"https://orig00.deviantart.net/ff5e/f/2013/102/4/4/yoda_by_valval-d61g9rh.png\" width=\"20%\" height=\"20%\">"
   ]
  }
 ],
 "metadata": {
  "kernelspec": {
   "display_name": "Python 3",
   "language": "python",
   "name": "python3"
  },
  "language_info": {
   "codemirror_mode": {
    "name": "ipython",
    "version": 3
   },
   "file_extension": ".py",
   "mimetype": "text/x-python",
   "name": "python",
   "nbconvert_exporter": "python",
   "pygments_lexer": "ipython3",
   "version": "3.8.3"
  }
 },
 "nbformat": 4,
 "nbformat_minor": 2
}
