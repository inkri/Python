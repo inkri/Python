{
 "cells": [
  {
   "cell_type": "markdown",
   "id": "8e7163c1-3f65-41f1-a766-3cbc8a9ca261",
   "metadata": {},
   "source": [
    "## overview and examples of coding efficient, object-oriented, modularized, and quality software in Python, with a focus on OOP, design patterns, and time and space-efficient algorithms."
   ]
  },
  {
   "cell_type": "markdown",
   "id": "d154ece1-1000-437e-bbe4-fa1a40acbb1a",
   "metadata": {},
   "source": [
    "### 1. OOP in Python: Promotes structured, maintainable, and scalable code.\n",
    "### 2. Design Patterns: Provides standard solutions for common design issues, improving code reliability and flexibility.\n",
    "### 3. Modularization: Enhances code organization and reusability, leading to easier maintenance and testing.\n",
    "### 4. Efficient Algorithms: Optimizes resource usage, ensuring that the software performs well even with large datasets."
   ]
  },
  {
   "cell_type": "code",
   "execution_count": null,
   "id": "eb556ad7-be44-45b4-8a21-e0849677e015",
   "metadata": {},
   "outputs": [],
   "source": []
  },
  {
   "cell_type": "markdown",
   "id": "1125175e-a231-4d9a-af58-e3e81ff61310",
   "metadata": {},
   "source": [
    "# Object-Oriented Programming (OOP) in Python"
   ]
  },
  {
   "cell_type": "markdown",
   "id": "ce20c761-09d8-47fe-a97b-6048630291cd",
   "metadata": {},
   "source": [
    "## Overview:\n",
    "## OOP Concepts: Encapsulation, Inheritance, Polymorphism, and Abstraction.\n",
    "## Benefits: Promotes code reusability, scalability, and modularity. It makes code easier to maintain and extend."
   ]
  },
  {
   "cell_type": "code",
   "execution_count": 2,
   "id": "85fe084e-94c5-4419-ba52-816f62fdb26b",
   "metadata": {},
   "outputs": [
    {
     "name": "stdout",
     "output_type": "stream",
     "text": [
      "2023 Tesla Model S is powered up silently.\n"
     ]
    }
   ],
   "source": [
    "#Explanation: The code demonstrates encapsulation by bundling vehicle properties and \n",
    "# methods inside a class, inheritance by creating ElectricVehicle from Vehicle, and polymorphism by overriding the start_engine method.\n",
    "\n",
    "\n",
    "class Vehicle:\n",
    "    def __init__(self, make, model, year):\n",
    "        self.make = make\n",
    "        self.model = model\n",
    "        self.year = year\n",
    "\n",
    "    def start_engine(self):\n",
    "        return f\"{self.year} {self.make} {self.model}'s engine started.\"\n",
    "\n",
    "class ElectricVehicle(Vehicle):  # Inheritance\n",
    "    def __init__(self, make, model, year, battery_size):\n",
    "        super().__init__(make, model, year)\n",
    "        self.battery_size = battery_size\n",
    "\n",
    "    def start_engine(self):  # Polymorphism\n",
    "        return f\"{self.year} {self.make} {self.model} is powered up silently.\"\n",
    "\n",
    "# Usage\n",
    "ev = ElectricVehicle(\"Tesla\", \"Model S\", 2023, 100)\n",
    "print(ev.start_engine())"
   ]
  },
  {
   "cell_type": "code",
   "execution_count": 8,
   "id": "2c939af1-25cb-4696-90fa-1e9eb282e235",
   "metadata": {},
   "outputs": [
    {
     "name": "stdout",
     "output_type": "stream",
     "text": [
      "Prediction for input 6: 12.00000000000001\n"
     ]
    }
   ],
   "source": [
    "import numpy as np\n",
    "\n",
    "class LinearRegressionModel:\n",
    "    def __init__(self):\n",
    "        self.coefficients = None\n",
    "        self.intercept = None\n",
    "\n",
    "    def train(self, X, y):\n",
    "        # Adding bias term (column of ones)\n",
    "        X_b = np.c_[np.ones((X.shape[0], 1)), X]\n",
    "        theta_best = np.linalg.inv(X_b.T.dot(X_b)).dot(X_b.T).dot(y)\n",
    "        self.intercept = theta_best[0]\n",
    "        self.coefficients = theta_best[1:]\n",
    "\n",
    "    def predict(self, X):\n",
    "        return X.dot(self.coefficients) + self.intercept\n",
    "\n",
    "# Usage\n",
    "X = np.array([[1], [2], [3], [4], [5]])\n",
    "y = np.array([2, 4, 6, 8, 10])\n",
    "\n",
    "model = LinearRegressionModel()\n",
    "model.train(X, y)\n",
    "predictions = model.predict(np.array([[6]]))\n",
    "\n",
    "print(f\"Prediction for input 6: {predictions[0]}\")"
   ]
  },
  {
   "cell_type": "code",
   "execution_count": null,
   "id": "bec74478-ba06-4f4b-806f-6b73eb5c5985",
   "metadata": {},
   "outputs": [],
   "source": []
  },
  {
   "cell_type": "markdown",
   "id": "bbb58545-dd7f-477d-8720-ee6f3a29d861",
   "metadata": {},
   "source": [
    "# Design Patterns in Python"
   ]
  },
  {
   "cell_type": "markdown",
   "id": "5385c7d4-dae7-45e3-9816-eb7590d8ab20",
   "metadata": {},
   "source": [
    "## Overview:\n",
    "## Design Patterns: Standard solutions to common software design problems.\n",
    "## Common Patterns: Singleton, Factory, Observer, Strategy, etc."
   ]
  },
  {
   "cell_type": "code",
   "execution_count": 3,
   "id": "7e0fe526-5b31-48f2-a6df-467c2a310caf",
   "metadata": {},
   "outputs": [
    {
     "name": "stdout",
     "output_type": "stream",
     "text": [
      "Rendering a button in Windows style.\n"
     ]
    }
   ],
   "source": [
    "# Explanation: The Factory pattern is used to create objects (WindowsButton, MacOSButton) without exposing the creation logic to the client, promoting loose coupling.\n",
    "\n",
    "\n",
    "from abc import ABC, abstractmethod\n",
    "\n",
    "class Button(ABC):\n",
    "    @abstractmethod\n",
    "    def render(self):\n",
    "        pass\n",
    "\n",
    "class WindowsButton(Button):\n",
    "    def render(self):\n",
    "        return \"Rendering a button in Windows style.\"\n",
    "\n",
    "class MacOSButton(Button):\n",
    "    def render(self):\n",
    "        return \"Rendering a button in MacOS style.\"\n",
    "\n",
    "class ButtonFactory:\n",
    "    def create_button(self, os_type):\n",
    "        if os_type == \"Windows\":\n",
    "            return WindowsButton()\n",
    "        elif os_type == \"MacOS\":\n",
    "            return MacOSButton()\n",
    "        else:\n",
    "            raise ValueError(\"Unknown OS type.\")\n",
    "\n",
    "# Usage\n",
    "factory = ButtonFactory()\n",
    "button = factory.create_button(\"Windows\")\n",
    "print(button.render())"
   ]
  },
  {
   "cell_type": "code",
   "execution_count": 9,
   "id": "dc0ad6b3-d9af-489f-ae91-42807bb66dc6",
   "metadata": {},
   "outputs": [
    {
     "name": "stdout",
     "output_type": "stream",
     "text": [
      "Prediction: 0\n"
     ]
    }
   ],
   "source": [
    "from abc import ABC, abstractmethod\n",
    "from sklearn.linear_model import LogisticRegression\n",
    "from sklearn.svm import SVC\n",
    "from sklearn.ensemble import RandomForestClassifier\n",
    "\n",
    "class ModelStrategy(ABC):\n",
    "    @abstractmethod\n",
    "    def train(self, X, y):\n",
    "        pass\n",
    "\n",
    "    @abstractmethod\n",
    "    def predict(self, X):\n",
    "        pass\n",
    "\n",
    "class LogisticRegressionStrategy(ModelStrategy):\n",
    "    def __init__(self):\n",
    "        self.model = LogisticRegression()\n",
    "\n",
    "    def train(self, X, y):\n",
    "        self.model.fit(X, y)\n",
    "\n",
    "    def predict(self, X):\n",
    "        return self.model.predict(X)\n",
    "\n",
    "class SVMStrategy(ModelStrategy):\n",
    "    def __init__(self):\n",
    "        self.model = SVC()\n",
    "\n",
    "    def train(self, X, y):\n",
    "        self.model.fit(X, y)\n",
    "\n",
    "    def predict(self, X):\n",
    "        return self.model.predict(X)\n",
    "\n",
    "class RandomForestStrategy(ModelStrategy):\n",
    "    def __init__(self):\n",
    "        self.model = RandomForestClassifier()\n",
    "\n",
    "    def train(self, X, y):\n",
    "        self.model.fit(X, y)\n",
    "\n",
    "    def predict(self, X):\n",
    "        return self.model.predict(X)\n",
    "\n",
    "# Usage\n",
    "X = [[1, 2], [2, 3], [3, 4], [4, 5]]\n",
    "y = [0, 0, 1, 1]\n",
    "\n",
    "# Choose strategy\n",
    "model_strategy = RandomForestStrategy()\n",
    "model_strategy.train(X, y)\n",
    "predictions = model_strategy.predict([[2, 3]])\n",
    "\n",
    "print(f\"Prediction: {predictions[0]}\")"
   ]
  },
  {
   "cell_type": "code",
   "execution_count": null,
   "id": "58befbd8-78a7-4399-a0e1-59f60c9b6989",
   "metadata": {},
   "outputs": [],
   "source": []
  },
  {
   "cell_type": "markdown",
   "id": "51cbc04a-3329-45e2-a0b9-2a254bfec1b9",
   "metadata": {},
   "source": [
    "# Modularized Software\n"
   ]
  },
  {
   "cell_type": "markdown",
   "id": "e7083ae3-3bfa-42f0-b72a-69b760c2baa9",
   "metadata": {},
   "source": [
    "## Overview:\n",
    "## Modularity: Breaking down code into reusable, independent modules or functions.\n",
    "## Benefits: Increases code maintainability, testability, and collaboration."
   ]
  },
  {
   "cell_type": "code",
   "execution_count": null,
   "id": "5a8736d4-0007-4a19-857c-586a29157581",
   "metadata": {},
   "outputs": [],
   "source": [
    "#Explanation: Functions are separated into different modules, promoting code reuse and cleaner organization. This structure makes it easier to test and maintain.\n",
    "\n",
    "# utils.py (Module 1)\n",
    "def add(a, b):\n",
    "    return a + b\n",
    "\n",
    "# math_operations.py (Module 2)\n",
    "from utils import add\n",
    "\n",
    "def multiply(a, b):\n",
    "    return a * b\n",
    "\n",
    "def square(a):\n",
    "    return multiply(a, a)\n",
    "\n",
    "# main.py\n",
    "from math_operations import square\n",
    "\n",
    "result = square(5)\n",
    "print(f\"Square of 5 is {result}\")"
   ]
  },
  {
   "cell_type": "code",
   "execution_count": null,
   "id": "c0caa8c8-cb4e-4247-88a5-f6fb9e2f1c96",
   "metadata": {},
   "outputs": [],
   "source": [
    "# data_processing.py\n",
    "from sklearn.preprocessing import StandardScaler\n",
    "\n",
    "def preprocess_data(X):\n",
    "    scaler = StandardScaler()\n",
    "    return scaler.fit_transform(X)\n",
    "\n",
    "# model_training.py\n",
    "from sklearn.linear_model import LinearRegression\n",
    "\n",
    "def train_model(X, y):\n",
    "    model = LinearRegression()\n",
    "    model.fit(X, y)\n",
    "    return model\n",
    "\n",
    "# evaluation.py\n",
    "from sklearn.metrics import mean_squared_error\n",
    "\n",
    "def evaluate_model(model, X, y):\n",
    "    predictions = model.predict(X)\n",
    "    return mean_squared_error(y, predictions)\n",
    "\n",
    "# main.py\n",
    "import numpy as np\n",
    "from data_processing import preprocess_data\n",
    "from model_training import train_model\n",
    "from evaluation import evaluate_model\n",
    "\n",
    "X = np.array([[1], [2], [3], [4], [5]])\n",
    "y = np.array([2, 4, 6, 8, 10])\n",
    "\n",
    "X_processed = preprocess_data(X)\n",
    "model = train_model(X_processed, y)\n",
    "mse = evaluate_model(model, X_processed, y)\n",
    "\n",
    "print(f\"Mean Squared Error: {mse}\")"
   ]
  },
  {
   "cell_type": "code",
   "execution_count": null,
   "id": "e918a053-84d6-41f1-8eb0-7db0f6d635e8",
   "metadata": {},
   "outputs": [],
   "source": [
    "my_ml_project/\n",
    "├── data_processing.py\n",
    "├── model_training.py\n",
    "├── evaluation.py\n",
    "└── main.py"
   ]
  },
  {
   "cell_type": "code",
   "execution_count": null,
   "id": "99fc19f9-2eaa-4ffd-8c99-9f4384765b80",
   "metadata": {},
   "outputs": [],
   "source": []
  },
  {
   "cell_type": "markdown",
   "id": "93bdf9e0-1aa2-4318-8344-f330f23c3245",
   "metadata": {},
   "source": [
    "#  Time and Space-Efficient Algorithms"
   ]
  },
  {
   "cell_type": "markdown",
   "id": "7f92b680-fc54-4173-9396-5136e01ff5eb",
   "metadata": {},
   "source": [
    "## Overview:\n",
    "## Efficiency: Writing algorithms that optimize time and space complexity.\n",
    "## Techniques: Use of appropriate data structures, algorithmic optimizations, and avoiding unnecessary computations."
   ]
  },
  {
   "cell_type": "code",
   "execution_count": 7,
   "id": "ea81a998-58e7-4085-acd0-4d404a30bab2",
   "metadata": {},
   "outputs": [
    {
     "name": "stdout",
     "output_type": "stream",
     "text": [
      "12586269025\n"
     ]
    }
   ],
   "source": [
    "# Explanation: The use of memoization reduces the time complexity of calculating the Fibonacci sequence from exponential O(2^n) to linear O(n) by storing previously computed values.\n",
    "\n",
    "def fibonacci(n, memo={}):\n",
    "    if n in memo:\n",
    "        return memo[n]\n",
    "    if n <= 2:\n",
    "        return 1\n",
    "    memo[n] = fibonacci(n-1, memo) + fibonacci(n-2, memo)\n",
    "    return memo[n]\n",
    "\n",
    "# Usage\n",
    "print(fibonacci(50))  # Efficient calculation due to memoization"
   ]
  },
  {
   "cell_type": "code",
   "execution_count": 11,
   "id": "7af4f730-b29e-49bf-b823-9cf37ee94504",
   "metadata": {},
   "outputs": [
    {
     "name": "stdout",
     "output_type": "stream",
     "text": [
      "Prediction: [0.78787879]\n"
     ]
    }
   ],
   "source": [
    "from scipy.sparse import csr_matrix\n",
    "from sklearn.linear_model import Ridge\n",
    "\n",
    "# Large sparse matrix example (e.g., text data)\n",
    "X = csr_matrix([[0, 0, 1], [1, 0, 0], [0, 1, 0], [0, 0, 1], [1, 0, 0]])\n",
    "y = [1, 0, 0, 1, 0]\n",
    "\n",
    "# Train model\n",
    "model = Ridge(alpha=1.0)\n",
    "model.fit(X, y)\n",
    "\n",
    "# Prediction\n",
    "prediction = model.predict(X[0])\n",
    "print(f\"Prediction: {prediction}\")"
   ]
  },
  {
   "cell_type": "markdown",
   "id": "318b95cc-b718-48e7-88e7-65de1ee2abb9",
   "metadata": {},
   "source": [
    "### OOP in ML: Encapsulates model logic in classes, providing a clear interface and promoting reusability.\n",
    "### Design Patterns in ML: The Strategy pattern allows easy switching between different algorithms, making code more flexible.\n",
    "### Modularization in ML: Breaking down the ML pipeline into separate modules improves code organization and testability.\n",
    "### Efficient Algorithms in ML: Using data structures like sparse matrices reduces memory usage and enhances performance, particularly in large-scale ML tasks."
   ]
  },
  {
   "cell_type": "code",
   "execution_count": null,
   "id": "a2af7466-603d-4c32-95f1-44966fbb4e51",
   "metadata": {},
   "outputs": [],
   "source": []
  }
 ],
 "metadata": {
  "kernelspec": {
   "display_name": "Python 3 (ipykernel)",
   "language": "python",
   "name": "python3"
  },
  "language_info": {
   "codemirror_mode": {
    "name": "ipython",
    "version": 3
   },
   "file_extension": ".py",
   "mimetype": "text/x-python",
   "name": "python",
   "nbconvert_exporter": "python",
   "pygments_lexer": "ipython3",
   "version": "3.11.4"
  }
 },
 "nbformat": 4,
 "nbformat_minor": 5
}
